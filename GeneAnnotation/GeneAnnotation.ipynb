{
 "cells": [
  {
   "cell_type": "markdown",
   "metadata": {},
   "source": [
    "## Gene Annotation\n",
    "\n",
    "### What is it?\n",
    "Genome annotation is central to the genome sequencing life cycle\n",
    "\n",
    "![](https://image.slidesharecdn.com/apolloworkshop-curation-intro-bipaa-2017-03-22-170322120431/95/curation-introduction-apollo-workshop-4-1024.jpg?cb=1490184398)\n",
    "\n",
    "### Why is it important?\n",
    "\n",
    "Some goals of manual annotation are:\n",
    "\n",
    "- To establish almost exhaustive lists of genes playing a key role in some crucial process\n",
    "- To look at your genes of interest enough to be comfortable that you have the right one’s before writing a paper.\n",
    "- To provide names for the known genes – based primarily on homology to what is known in other organisms.\n",
    "- To fix obvious errors in the automated gene models and improve them where additional data is available – i.e. to get the intron/exon co-ordinates right.\n"
   ]
  },
  {
   "cell_type": "markdown",
   "metadata": {},
   "source": [
    "## Introduction to Genome Annotation"
   ]
  },
  {
   "cell_type": "code",
   "execution_count": 1,
   "metadata": {},
   "outputs": [
    {
     "data": {
      "text/html": [
       "\n",
       "        <iframe\n",
       "            width=\"600\"\n",
       "            height=\"300\"\n",
       "            src=\"Buell_Lecture_GenomeAnnotation.pdf\"\n",
       "            frameborder=\"0\"\n",
       "            allowfullscreen\n",
       "        ></iframe>\n",
       "        "
      ],
      "text/plain": [
       "<IPython.lib.display.IFrame at 0x7f6dfc617978>"
      ]
     },
     "execution_count": 1,
     "metadata": {},
     "output_type": "execute_result"
    }
   ],
   "source": [
    "from IPython.display import IFrame\n",
    "IFrame(\"Buell_Lecture_GenomeAnnotation.pdf\", width=600, height=300)"
   ]
  },
  {
   "cell_type": "markdown",
   "metadata": {},
   "source": [
    "## General Feature Format (gff)\n",
    "\n",
    "A file format used to describe genes and other features of DNA, RNA and protein sequences. \n",
    "\n",
    "### Fields\n",
    "\n",
    "Fields must be tab-separated. Also, all but the final field in each feature line must contain a value; \"empty\" columns should be denoted with a '.'\n",
    "\n",
    "1. **seqname** - name of the chromosome or scaffold; chromosome names can be given with or without the 'chr' prefix. Important note: the seqname must be one used within Ensembl, i.e. a standard chromosome name or an Ensembl identifier such as a scaffold ID, without any additional content such as species or assembly. See the example GFF output below.\n",
    "2. **source** - name of the program that generated this feature, or the data source (database or project name)\n",
    "3. **feature** - feature type name, e.g. Gene, Variation, Similarity\n",
    "4. **start** - Start position of the feature, with sequence numbering starting at 1.\n",
    "5. **end** - End position of the feature, with sequence numbering starting at 1.\n",
    "6. **score** - A floating point value.\n",
    "7. **strand** - defined as + (forward) or - (reverse).\n",
    "8. **frame** - One of '0', '1' or '2'. '0' indicates that the first base of the feature is the first base of a codon, '1' that the second base is the first base of a codon, and so on..\n",
    "9. **attribute** - A semicolon-separated list of tag-value pairs, providing additional information about each feature.\n",
    "\n",
    "\n",
    "For submission to genebank, annotatons in gff can be used to create a submission file. See [this guide](https://www.ncbi.nlm.nih.gov/genbank/genomes_gff/). "
   ]
  },
  {
   "cell_type": "code",
   "execution_count": null,
   "metadata": {},
   "outputs": [],
   "source": []
  }
 ],
 "metadata": {
  "kernelspec": {
   "display_name": "Python 3",
   "language": "python",
   "name": "python3"
  },
  "language_info": {
   "codemirror_mode": {
    "name": "ipython",
    "version": 3
   },
   "file_extension": ".py",
   "mimetype": "text/x-python",
   "name": "python",
   "nbconvert_exporter": "python",
   "pygments_lexer": "ipython3",
   "version": "3.6.8"
  }
 },
 "nbformat": 4,
 "nbformat_minor": 2
}
